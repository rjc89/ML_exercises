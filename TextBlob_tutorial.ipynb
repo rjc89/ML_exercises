{
  "nbformat": 4,
  "nbformat_minor": 0,
  "metadata": {
    "kernelspec": {
      "name": "python3",
      "language": "python",
      "display_name": "Python 3"
    },
    "language_info": {
      "name": "python",
      "version": "3.7.3",
      "mimetype": "text/x-python",
      "codemirror_mode": {
        "name": "ipython",
        "version": 3
      },
      "pygments_lexer": "ipython3",
      "nbconvert_exporter": "python",
      "file_extension": ".py"
    },
    "kernel_info": {
      "name": "python3"
    },
    "nteract": {
      "version": "0.14.5"
    },
    "colab": {
      "name": "TextBlob_tutorial.ipynb",
      "provenance": [],
      "include_colab_link": true
    }
  },
  "cells": [
    {
      "cell_type": "markdown",
      "metadata": {
        "id": "view-in-github",
        "colab_type": "text"
      },
      "source": [
        "<a href=\"https://colab.research.google.com/github/rjc89/ML_exercises/blob/master/TextBlob_tutorial.ipynb\" target=\"_parent\"><img src=\"https://colab.research.google.com/assets/colab-badge.svg\" alt=\"Open In Colab\"/></a>"
      ]
    },
    {
      "cell_type": "code",
      "metadata": {
        "id": "ZLrg2zkW2ZJt",
        "colab_type": "code",
        "colab": {}
      },
      "source": [
        "import numpy as np"
      ],
      "execution_count": 0,
      "outputs": []
    },
    {
      "cell_type": "code",
      "metadata": {
        "outputHidden": false,
        "inputHidden": false,
        "id": "enMccztT2ZJ1",
        "colab_type": "code",
        "colab": {}
      },
      "source": [
        "from textblob import TextBlob"
      ],
      "execution_count": 0,
      "outputs": []
    },
    {
      "cell_type": "code",
      "metadata": {
        "outputHidden": false,
        "inputHidden": false,
        "id": "Pvve-PNw2ZJ5",
        "colab_type": "code",
        "colab": {}
      },
      "source": [
        "text = '''\n",
        "The titular threat of The Blob has always struck me as the ultimate movie\n",
        "monster: an insatiably hungry, amoeba-like mass able to penetrate\n",
        "virtually any safeguard, capable of--as a doomed doctor chillingly\n",
        "describes it--\"assimilating flesh on contact.\n",
        "Snide comparisons to gelatin be damned, it's a concept with the most\n",
        "devastating of potential consequences, not unlike the grey goo scenario\n",
        "proposed by technological theorists fearful of\n",
        "artificial intelligence run rampant.\n",
        "'''\n",
        "\n",
        "blob = TextBlob(text)\n"
      ],
      "execution_count": 0,
      "outputs": []
    },
    {
      "cell_type": "code",
      "metadata": {
        "outputHidden": false,
        "inputHidden": false,
        "id": "wkbqqcKD2ZJ-",
        "colab_type": "code",
        "colab": {},
        "outputId": "a62cefaf-54a8-483a-ded3-134bdd705dda"
      },
      "source": [
        "blob.tags           # [('The', 'DT'), ('titular', 'JJ'),\n",
        "                    #  ('threat', 'NN'), ('of', 'IN'), ...]\n",
        "\n"
      ],
      "execution_count": 0,
      "outputs": [
        {
          "output_type": "execute_result",
          "data": {
            "text/plain": [
              "[('The', 'DT'),\n",
              " ('titular', 'JJ'),\n",
              " ('threat', 'NN'),\n",
              " ('of', 'IN'),\n",
              " ('The', 'DT'),\n",
              " ('Blob', 'NNP'),\n",
              " ('has', 'VBZ'),\n",
              " ('always', 'RB'),\n",
              " ('struck', 'VBN'),\n",
              " ('me', 'PRP'),\n",
              " ('as', 'IN'),\n",
              " ('the', 'DT'),\n",
              " ('ultimate', 'JJ'),\n",
              " ('movie', 'NN'),\n",
              " ('monster', 'NN'),\n",
              " ('an', 'DT'),\n",
              " ('insatiably', 'RB'),\n",
              " ('hungry', 'JJ'),\n",
              " ('amoeba-like', 'JJ'),\n",
              " ('mass', 'NN'),\n",
              " ('able', 'JJ'),\n",
              " ('to', 'TO'),\n",
              " ('penetrate', 'VB'),\n",
              " ('virtually', 'RB'),\n",
              " ('any', 'DT'),\n",
              " ('safeguard', 'NN'),\n",
              " ('capable', 'JJ'),\n",
              " ('of', 'IN'),\n",
              " ('as', 'IN'),\n",
              " ('a', 'DT'),\n",
              " ('doomed', 'JJ'),\n",
              " ('doctor', 'NN'),\n",
              " ('chillingly', 'RB'),\n",
              " ('describes', 'VBZ'),\n",
              " ('it', 'PRP'),\n",
              " ('assimilating', 'VBG'),\n",
              " ('flesh', 'NN'),\n",
              " ('on', 'IN'),\n",
              " ('contact', 'NN'),\n",
              " ('Snide', 'JJ'),\n",
              " ('comparisons', 'NNS'),\n",
              " ('to', 'TO'),\n",
              " ('gelatin', 'VB'),\n",
              " ('be', 'VB'),\n",
              " ('damned', 'VBN'),\n",
              " ('it', 'PRP'),\n",
              " (\"'s\", 'VBZ'),\n",
              " ('a', 'DT'),\n",
              " ('concept', 'NN'),\n",
              " ('with', 'IN'),\n",
              " ('the', 'DT'),\n",
              " ('most', 'RBS'),\n",
              " ('devastating', 'JJ'),\n",
              " ('of', 'IN'),\n",
              " ('potential', 'JJ'),\n",
              " ('consequences', 'NNS'),\n",
              " ('not', 'RB'),\n",
              " ('unlike', 'IN'),\n",
              " ('the', 'DT'),\n",
              " ('grey', 'NN'),\n",
              " ('goo', 'NN'),\n",
              " ('scenario', 'NN'),\n",
              " ('proposed', 'VBN'),\n",
              " ('by', 'IN'),\n",
              " ('technological', 'JJ'),\n",
              " ('theorists', 'NNS'),\n",
              " ('fearful', 'NN'),\n",
              " ('of', 'IN'),\n",
              " ('artificial', 'JJ'),\n",
              " ('intelligence', 'NN'),\n",
              " ('run', 'NN'),\n",
              " ('rampant', 'NN')]"
            ]
          },
          "metadata": {
            "tags": []
          },
          "execution_count": 4
        }
      ]
    },
    {
      "cell_type": "code",
      "metadata": {
        "outputHidden": false,
        "inputHidden": false,
        "id": "lH5y6LxR2ZKE",
        "colab_type": "code",
        "colab": {},
        "outputId": "e1075c3f-144f-406f-f18f-ad120502b978"
      },
      "source": [
        "blob.noun_phrases   # WordList(['titular threat', 'blob',\n",
        "                    #            'ultimate movie monster',\n",
        "                    #            'amoeba-like mass', ...])\n",
        "\n"
      ],
      "execution_count": 0,
      "outputs": [
        {
          "output_type": "execute_result",
          "data": {
            "text/plain": [
              "WordList(['titular threat', 'blob', 'ultimate movie monster', 'amoeba-like mass', 'snide', 'potential consequences', 'grey goo scenario', 'technological theorists fearful', 'artificial intelligence run rampant'])"
            ]
          },
          "metadata": {
            "tags": []
          },
          "execution_count": 5
        }
      ]
    },
    {
      "cell_type": "code",
      "metadata": {
        "outputHidden": false,
        "inputHidden": false,
        "id": "fpVati4r2ZKL",
        "colab_type": "code",
        "colab": {},
        "outputId": "8800330e-8088-49df-c8e8-dd01abe831af"
      },
      "source": [
        "for sentence in blob.sentences:\n",
        "    print(sentence.sentiment.polarity)\n",
        "# 0.060\n",
        "# -0.341"
      ],
      "execution_count": 0,
      "outputs": [
        {
          "output_type": "stream",
          "text": [
            "0.06000000000000001\n",
            "-0.34166666666666673\n"
          ],
          "name": "stdout"
        }
      ]
    },
    {
      "cell_type": "code",
      "metadata": {
        "outputHidden": false,
        "inputHidden": false,
        "id": "ezvwAOQn2ZKQ",
        "colab_type": "code",
        "colab": {},
        "outputId": "97c2fd0d-9b7a-4dc7-d942-6dee6b0cf4df"
      },
      "source": [
        "blob.translate(to=\"es\")  # 'La amenaza titular de The Blob...'"
      ],
      "execution_count": 0,
      "outputs": [
        {
          "output_type": "execute_result",
          "data": {
            "text/plain": [
              "TextBlob(\"La amenaza titular de The Blob siempre me ha parecido la mejor película.\n",
              "monstruo: una masa insaciablemente hambrienta, similar a una ameba, capaz de penetrar\n",
              "prácticamente cualquier salvaguarda, capaz de, como un médico condenado, escalofriante\n",
              "lo describe - \"asimilando la carne al contacto.\n",
              "Malditas comparaciones con la gelatina, maldita sea, es un concepto con la mayoría\n",
              "devastador de posibles consecuencias, no muy diferente del escenario de la sustancia gris\n",
              "propuesto por teóricos tecnológicos temerosos de\n",
              "la inteligencia artificial corre desenfrenada.\")"
            ]
          },
          "metadata": {
            "tags": []
          },
          "execution_count": 7
        }
      ]
    },
    {
      "cell_type": "markdown",
      "metadata": {
        "id": "xywRyFBb2ZKT",
        "colab_type": "text"
      },
      "source": [
        "#Text Classifier"
      ]
    },
    {
      "cell_type": "code",
      "metadata": {
        "outputHidden": false,
        "inputHidden": false,
        "id": "Uab_-jqT2ZKV",
        "colab_type": "code",
        "colab": {}
      },
      "source": [
        "train = [\n",
        "('I love this sandwich.', 'pos'),\n",
        "('this is an amazing place!', 'pos'),\n",
        "('I feel very good about these beers.', 'pos'),\n",
        "('this is my best work.', 'pos'),\n",
        "(\"what an awesome view\", 'pos'),\n",
        "('I do not like this restaurant', 'neg'),\n",
        "('I am tired of this stuff.', 'neg'),\n",
        "(\"I can't deal with this\", 'neg'),\n",
        "('he is my sworn enemy!', 'neg'),\n",
        "('my boss is horrible.', 'neg')\n",
        "]\n",
        "test = [\n",
        "('the beer was good.', 'pos'),\n",
        "('I do not enjoy my job', 'neg'),\n",
        "(\"I ain't feeling dandy today.\", 'neg'),\n",
        "(\"I feel amazing!\", 'pos'),\n",
        "('Gary is a friend of mine.', 'pos'),\n",
        "(\"I can't believe I'm doing this.\", 'neg')\n",
        "]"
      ],
      "execution_count": 0,
      "outputs": []
    },
    {
      "cell_type": "code",
      "metadata": {
        "outputHidden": false,
        "inputHidden": false,
        "id": "gnUahoVr2ZKY",
        "colab_type": "code",
        "colab": {}
      },
      "source": [
        "from textblob.classifiers import NaiveBayesClassifier\n",
        "cl = NaiveBayesClassifier(train)"
      ],
      "execution_count": 0,
      "outputs": []
    },
    {
      "cell_type": "code",
      "metadata": {
        "outputHidden": false,
        "inputHidden": false,
        "id": "y5iqM-372ZKd",
        "colab_type": "code",
        "colab": {},
        "outputId": "98735cab-1770-46f3-dfd2-f6bfd87c0ba9"
      },
      "source": [
        "cl.classify(\"This is an amazing library!\")"
      ],
      "execution_count": 0,
      "outputs": [
        {
          "output_type": "execute_result",
          "data": {
            "text/plain": [
              "'pos'"
            ]
          },
          "metadata": {
            "tags": []
          },
          "execution_count": 11
        }
      ]
    },
    {
      "cell_type": "code",
      "metadata": {
        "outputHidden": false,
        "inputHidden": false,
        "id": "k1osKYO82ZKh",
        "colab_type": "code",
        "colab": {},
        "outputId": "1824bc47-77ab-44da-9a4b-048e12bde104"
      },
      "source": [
        "prob_dist = cl.prob_classify(\"This one's a doozy.\")\n",
        "prob_dist.max()\n"
      ],
      "execution_count": 0,
      "outputs": [
        {
          "output_type": "execute_result",
          "data": {
            "text/plain": [
              "'pos'"
            ]
          },
          "metadata": {
            "tags": []
          },
          "execution_count": 12
        }
      ]
    },
    {
      "cell_type": "code",
      "metadata": {
        "outputHidden": false,
        "inputHidden": false,
        "id": "CPMgK7F02ZKk",
        "colab_type": "code",
        "colab": {},
        "outputId": "4b94b07f-13c0-472e-8e41-ccbdf9e3f784"
      },
      "source": [
        "\n",
        "round(prob_dist.prob(\"pos\"), 2)\n",
        "\n"
      ],
      "execution_count": 0,
      "outputs": [
        {
          "output_type": "execute_result",
          "data": {
            "text/plain": [
              "0.63"
            ]
          },
          "metadata": {
            "tags": []
          },
          "execution_count": 15
        }
      ]
    },
    {
      "cell_type": "code",
      "metadata": {
        "outputHidden": false,
        "inputHidden": false,
        "id": "d85g1mgx2ZKo",
        "colab_type": "code",
        "colab": {},
        "outputId": "4d875606-979a-4657-d055-f2a409517864"
      },
      "source": [
        "round(prob_dist.prob(\"neg\"), 2)"
      ],
      "execution_count": 0,
      "outputs": [
        {
          "output_type": "execute_result",
          "data": {
            "text/plain": [
              "0.37"
            ]
          },
          "metadata": {
            "tags": []
          },
          "execution_count": 14
        }
      ]
    },
    {
      "cell_type": "markdown",
      "metadata": {
        "id": "o6cJ0DS22ZKr",
        "colab_type": "text"
      },
      "source": [
        "Classifying Sentences within textblobs"
      ]
    },
    {
      "cell_type": "code",
      "metadata": {
        "outputHidden": false,
        "inputHidden": false,
        "id": "Qz-Xty7m2ZKs",
        "colab_type": "code",
        "colab": {},
        "outputId": "138b2f72-d0fb-443f-85f1-aba8b99cd39e"
      },
      "source": [
        ">>> from textblob import TextBlob\n",
        ">>> blob = TextBlob(\"The beer is good. But the hangover is horrible.\", classifier=cl)\n",
        ">>> blob.classify()"
      ],
      "execution_count": 0,
      "outputs": [
        {
          "output_type": "execute_result",
          "data": {
            "text/plain": [
              "'pos'"
            ]
          },
          "metadata": {
            "tags": []
          },
          "execution_count": 16
        }
      ]
    },
    {
      "cell_type": "code",
      "metadata": {
        "outputHidden": false,
        "inputHidden": false,
        "id": "1gEOuBoi2ZKw",
        "colab_type": "code",
        "colab": {},
        "outputId": "fc51dcd4-2e3d-41d2-80c2-5db5eebcff1a"
      },
      "source": [
        "for s in blob.sentences:\n",
        "    print(s)\n",
        "    print(s.classify())"
      ],
      "execution_count": 0,
      "outputs": [
        {
          "output_type": "stream",
          "text": [
            "The beer is good.\n",
            "pos\n",
            "But the hangover is horrible.\n",
            "neg\n"
          ],
          "name": "stdout"
        }
      ]
    },
    {
      "cell_type": "code",
      "metadata": {
        "outputHidden": false,
        "inputHidden": false,
        "id": "Umhu_Lrt2ZK0",
        "colab_type": "code",
        "colab": {},
        "outputId": "ce21671e-4273-4654-c470-fd0679665454"
      },
      "source": [
        "cl.accuracy(test)"
      ],
      "execution_count": 0,
      "outputs": [
        {
          "output_type": "execute_result",
          "data": {
            "text/plain": [
              "0.8333333333333334"
            ]
          },
          "metadata": {
            "tags": []
          },
          "execution_count": 18
        }
      ]
    },
    {
      "cell_type": "code",
      "metadata": {
        "outputHidden": false,
        "inputHidden": false,
        "id": "BsoIERc02ZK4",
        "colab_type": "code",
        "colab": {}
      },
      "source": [
        "new_data = [('She is my best friend.', 'pos'),\n",
        "(\"I'm happy to have a new friend.\", 'pos'),\n",
        "(\"Stay thirsty, my friend.\", 'pos'),\n",
        "(\"He ain't from around here.\", 'neg')]\n"
      ],
      "execution_count": 0,
      "outputs": []
    },
    {
      "cell_type": "code",
      "metadata": {
        "outputHidden": false,
        "inputHidden": false,
        "id": "NHjAdWz_2ZK6",
        "colab_type": "code",
        "colab": {},
        "outputId": "72c40b35-e72b-42ea-d3eb-3a14216491b5"
      },
      "source": [
        "cl.update(new_data)\n",
        "\n"
      ],
      "execution_count": 0,
      "outputs": [
        {
          "output_type": "execute_result",
          "data": {
            "text/plain": [
              "True"
            ]
          },
          "metadata": {
            "tags": []
          },
          "execution_count": 20
        }
      ]
    },
    {
      "cell_type": "code",
      "metadata": {
        "outputHidden": false,
        "inputHidden": false,
        "id": "bBMJjd-32ZK-",
        "colab_type": "code",
        "colab": {},
        "outputId": "537fdb1d-368c-4155-91d7-da52bb461b27"
      },
      "source": [
        "cl.accuracy(test)"
      ],
      "execution_count": 0,
      "outputs": [
        {
          "output_type": "execute_result",
          "data": {
            "text/plain": [
              "1.0"
            ]
          },
          "metadata": {
            "tags": []
          },
          "execution_count": 21
        }
      ]
    },
    {
      "cell_type": "markdown",
      "metadata": {
        "id": "DU1v4F9s2ZLC",
        "colab_type": "text"
      },
      "source": [
        "FEATURE EXTRACTORS"
      ]
    },
    {
      "cell_type": "code",
      "metadata": {
        "outputHidden": false,
        "inputHidden": false,
        "id": "zutDkLNr2ZLE",
        "colab_type": "code",
        "colab": {}
      },
      "source": [
        "def end_word_extractor(document):\n",
        "    tokens = document.split()\n",
        "    first_word, last_word = tokens[0], tokens[-1]\n",
        "    feats = {}\n",
        "    feats[\"first({0})\".format(first_word)] = True\n",
        "    feats[\"last({0})\".format(last_word)] = False\n",
        "    return feats\n"
      ],
      "execution_count": 0,
      "outputs": []
    },
    {
      "cell_type": "code",
      "metadata": {
        "outputHidden": false,
        "inputHidden": false,
        "id": "Sa_eYmkb2ZLL",
        "colab_type": "code",
        "colab": {}
      },
      "source": [
        "features = end_word_extractor(\"I feel happy\")\n",
        "assert features == {'last(happy)': False, 'first(I)': True}"
      ],
      "execution_count": 0,
      "outputs": []
    },
    {
      "cell_type": "code",
      "metadata": {
        "outputHidden": false,
        "inputHidden": false,
        "id": "XX8QHdlQ2ZLP",
        "colab_type": "code",
        "colab": {},
        "outputId": "2f342fc2-5495-4fd2-b224-7c391e5e58a8"
      },
      "source": [
        "cl2 = NaiveBayesClassifier(test, feature_extractor=end_word_extractor)\n",
        "blob = TextBlob(\"I'm excited to try my new classifier.\", classifier=cl2)\n",
        "blob.classify()"
      ],
      "execution_count": 0,
      "outputs": [
        {
          "output_type": "execute_result",
          "data": {
            "text/plain": [
              "'pos'"
            ]
          },
          "metadata": {
            "tags": []
          },
          "execution_count": 24
        }
      ]
    }
  ]
}