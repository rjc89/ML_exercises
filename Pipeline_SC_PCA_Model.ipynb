{
 "cells": [
  {
   "cell_type": "markdown",
   "metadata": {},
   "source": [
    "https://chrisalbon.com/machine_learning/model_selection/pipelines_with_parameter_optimization/"
   ]
  },
  {
   "cell_type": "markdown",
   "metadata": {},
   "source": [
    "# Pipelines With Parameter Optimization"
   ]
  },
  {
   "cell_type": "code",
   "execution_count": 6,
   "metadata": {
    "collapsed": true
   },
   "outputs": [],
   "source": [
    "# Import required packages\n",
    "import numpy as np\n",
    "from sklearn import linear_model, decomposition, datasets\n",
    "from sklearn.pipeline import Pipeline\n",
    "from sklearn.model_selection import GridSearchCV, cross_val_score\n",
    "from sklearn.preprocessing import StandardScaler"
   ]
  },
  {
   "cell_type": "code",
   "execution_count": 7,
   "metadata": {
    "collapsed": true
   },
   "outputs": [],
   "source": [
    "# Load the breast cancer data\n",
    "dataset = datasets.load_breast_cancer()\n",
    "\n",
    "# Create X from the dataset's features\n",
    "X = dataset.data\n",
    "\n",
    "# Create y from the dataset's output\n",
    "y = dataset.target"
   ]
  },
  {
   "cell_type": "markdown",
   "metadata": {},
   "source": [
    "### Create the pipeline"
   ]
  },
  {
   "cell_type": "code",
   "execution_count": 8,
   "metadata": {
    "collapsed": true
   },
   "outputs": [],
   "source": [
    "# Create an scaler object\n",
    "sc = StandardScaler()\n",
    "\n",
    "# Create a pca object\n",
    "pca = decomposition.PCA()\n",
    "\n",
    "# Create a logistic regression object with an L2 penalty\n",
    "logistic = linear_model.LogisticRegression()\n",
    "\n",
    "# Create a pipeline of three steps. First, standardize the data.\n",
    "# Second, tranform the data with PCA.\n",
    "# Third, train a logistic regression on the data.\n",
    "pipe = Pipeline(steps=[('sc', sc), \n",
    "                       ('pca', pca), \n",
    "                       ('logistic', logistic)])"
   ]
  },
  {
   "cell_type": "markdown",
   "metadata": {},
   "source": [
    "### Create Parameter Space"
   ]
  },
  {
   "cell_type": "code",
   "execution_count": 9,
   "metadata": {
    "collapsed": true
   },
   "outputs": [],
   "source": [
    "# Create a list of a sequence of integers from 1 to 30 (the number of features in X + 1)\n",
    "n_components = list(range(1,X.shape[1]+1,1))\n",
    "\n",
    "# Create a list of values of the regularization parameter\n",
    "C = np.logspace(-4, 4, 50)\n",
    "\n",
    "# Create a list of options for the regularization penalty\n",
    "penalty = ['l1', 'l2']\n",
    "\n",
    "# Create a dictionary of all the parameter options \n",
    "# Note has you can access the parameters of steps of a pipeline by using '__’\n",
    "parameters = dict(pca__n_components=n_components, \n",
    "                  logistic__C=C,\n",
    "                  logistic__penalty=penalty)"
   ]
  },
  {
   "cell_type": "markdown",
   "metadata": {},
   "source": [
    "### Conduct Parameter Optmization With Pipeline"
   ]
  },
  {
   "cell_type": "code",
   "execution_count": 10,
   "metadata": {},
   "outputs": [
    {
     "name": "stdout",
     "output_type": "stream",
     "text": [
      "Best Penalty: l2\n",
      "Best C: 0.0409491506238\n",
      "Best Number Of Components: 9\n"
     ]
    }
   ],
   "source": [
    "# Create a grid search object\n",
    "clf = GridSearchCV(pipe, parameters)\n",
    "\n",
    "# Fit the grid search\n",
    "clf.fit(X, y)\n",
    "# View The Best Parameters\n",
    "print('Best Penalty:', clf.best_estimator_.get_params()['logistic__penalty'])\n",
    "print('Best C:', clf.best_estimator_.get_params()['logistic__C'])\n",
    "print('Best Number Of Components:', clf.best_estimator_.get_params()['pca__n_components'])"
   ]
  },
  {
   "cell_type": "markdown",
   "metadata": {},
   "source": [
    "### Use Cross Validation To Evaluate Model"
   ]
  },
  {
   "cell_type": "code",
   "execution_count": 11,
   "metadata": {},
   "outputs": [
    {
     "data": {
      "text/plain": [
       "array([ 0.92631579,  0.97368421,  0.96296296])"
      ]
     },
     "execution_count": 11,
     "metadata": {},
     "output_type": "execute_result"
    }
   ],
   "source": [
    "# Fit the grid search using 3-Fold cross validation\n",
    "cross_val_score(clf, X, y)"
   ]
  }
 ],
 "metadata": {
  "kernelspec": {
   "display_name": "Python 3",
   "language": "python",
   "name": "python3"
  },
  "language_info": {
   "codemirror_mode": {
    "name": "ipython",
    "version": 3
   },
   "file_extension": ".py",
   "mimetype": "text/x-python",
   "name": "python",
   "nbconvert_exporter": "python",
   "pygments_lexer": "ipython3",
   "version": "3.6.5"
  }
 },
 "nbformat": 4,
 "nbformat_minor": 2
}
