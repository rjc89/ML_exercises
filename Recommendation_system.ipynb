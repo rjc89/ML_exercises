{
 "cells": [
  {
   "cell_type": "code",
   "execution_count": 18,
   "metadata": {
    "collapsed": true
   },
   "outputs": [],
   "source": [
    "import numpy as np\n",
    "from lightfm.datasets import fetch_movielens\n",
    "from lightfm import LightFM\n"
   ]
  },
  {
   "cell_type": "code",
   "execution_count": 31,
   "metadata": {},
   "outputs": [
    {
     "name": "stdout",
     "output_type": "stream",
     "text": [
      "Help on function fetch_movielens in module lightfm.datasets.movielens:\n",
      "\n",
      "fetch_movielens(data_home=None, indicator_features=True, genre_features=False, min_rating=0.0, download_if_missing=True)\n",
      "    Fetch the `Movielens 100k dataset <http://grouplens.org/datasets/movielens/100k/>`_.\n",
      "    \n",
      "    The dataset contains 100,000 interactions from 1000 users on 1700 movies,\n",
      "    and is exhaustively described in its\n",
      "    `README <http://files.grouplens.org/datasets/movielens/ml-100k-README.txt>`_.\n",
      "    \n",
      "    Parameters\n",
      "    ----------\n",
      "    \n",
      "    data_home: path, optional\n",
      "        Path to the directory in which the downloaded data should be placed.\n",
      "        Defaults to ``~/lightfm_data/``.\n",
      "    indicator_features: bool, optional\n",
      "        Use an [n_users, n_users] identity matrix for item features. When True with genre_features,\n",
      "        indicator and genre features are concatenated into a single feature matrix of shape\n",
      "        [n_users, n_users + n_genres].\n",
      "    genre_features: bool, optional\n",
      "        Use a [n_users, n_genres] matrix for item features. When True with item_indicator_features,\n",
      "        indicator and genre features are concatenated into a single feature matrix of shape\n",
      "        [n_users, n_users + n_genres].\n",
      "    min_rating: float, optional\n",
      "        Minimum rating to include in the interaction matrix.\n",
      "    download_if_missing: bool, optional\n",
      "        Download the data if not present. Raises an IOError if False and data is missing.\n",
      "    \n",
      "    Notes\n",
      "    -----\n",
      "    \n",
      "    The return value is a dictionary containing the following keys:\n",
      "    \n",
      "    Returns\n",
      "    -------\n",
      "    \n",
      "    train: sp.coo_matrix of shape [n_users, n_items]\n",
      "         Contains training set interactions.\n",
      "    test: sp.coo_matrix of shape [n_users, n_items]\n",
      "         Contains testing set interactions.\n",
      "    item_features: sp.csr_matrix of shape [n_items, n_item_features]\n",
      "         Contains item features.\n",
      "    item_feature_labels: np.array of strings of shape [n_item_features,]\n",
      "         Labels of item features.\n",
      "    item_labels: np.array of strings of shape [n_items,]\n",
      "         Items' titles.\n",
      "\n"
     ]
    }
   ],
   "source": [
    "help(fetch_movielens)"
   ]
  },
  {
   "cell_type": "code",
   "execution_count": 19,
   "metadata": {},
   "outputs": [],
   "source": [
    "#fetch and format data for minimum rating of 4\n",
    "data = fetch_movielens(min_rating=4.0) "
   ]
  },
  {
   "cell_type": "code",
   "execution_count": 20,
   "metadata": {},
   "outputs": [
    {
     "name": "stdout",
     "output_type": "stream",
     "text": [
      "{'train': <943x1682 sparse matrix of type '<class 'numpy.int32'>'\n",
      "\twith 49906 stored elements in COOrdinate format>, 'test': <943x1682 sparse matrix of type '<class 'numpy.int32'>'\n",
      "\twith 5469 stored elements in COOrdinate format>, 'item_features': <1682x1682 sparse matrix of type '<class 'numpy.float32'>'\n",
      "\twith 1682 stored elements in Compressed Sparse Row format>, 'item_feature_labels': array(['Toy Story (1995)', 'GoldenEye (1995)', 'Four Rooms (1995)', ...,\n",
      "       'Sliding Doors (1998)', 'You So Crazy (1994)',\n",
      "       'Scream of Stone (Schrei aus Stein) (1991)'], dtype=object), 'item_labels': array(['Toy Story (1995)', 'GoldenEye (1995)', 'Four Rooms (1995)', ...,\n",
      "       'Sliding Doors (1998)', 'You So Crazy (1994)',\n",
      "       'Scream of Stone (Schrei aus Stein) (1991)'], dtype=object)}\n"
     ]
    }
   ],
   "source": [
    "print(data)"
   ]
  },
  {
   "cell_type": "code",
   "execution_count": 21,
   "metadata": {},
   "outputs": [
    {
     "name": "stdout",
     "output_type": "stream",
     "text": [
      "<943x1682 sparse matrix of type '<class 'numpy.int32'>'\n",
      "\twith 49906 stored elements in COOrdinate format>\n",
      "<943x1682 sparse matrix of type '<class 'numpy.int32'>'\n",
      "\twith 5469 stored elements in COOrdinate format>\n"
     ]
    }
   ],
   "source": [
    "#print the training and testing set matrices\n",
    "print(repr(data['train']))\n",
    "print(repr(data['test']))"
   ]
  },
  {
   "cell_type": "code",
   "execution_count": 22,
   "metadata": {},
   "outputs": [],
   "source": [
    "\n",
    "#setup the model \n",
    "model = LightFM(loss=\"warp\")"
   ]
  },
  {
   "cell_type": "code",
   "execution_count": 23,
   "metadata": {},
   "outputs": [
    {
     "name": "stdout",
     "output_type": "stream",
     "text": [
      "<lightfm.lightfm.LightFM object at 0x114611a20>\n"
     ]
    }
   ],
   "source": [
    "print(model)"
   ]
  },
  {
   "cell_type": "code",
   "execution_count": 24,
   "metadata": {},
   "outputs": [
    {
     "data": {
      "text/plain": [
       "<lightfm.lightfm.LightFM at 0x114611a20>"
      ]
     },
     "execution_count": 24,
     "metadata": {},
     "output_type": "execute_result"
    }
   ],
   "source": [
    "#train the model with the data\n",
    "model.fit(data[\"train\"], epochs=30, num_threads=2)"
   ]
  },
  {
   "cell_type": "code",
   "execution_count": 33,
   "metadata": {},
   "outputs": [
    {
     "name": "stdout",
     "output_type": "stream",
     "text": [
      "User 3\n",
      "     Known positives:\n",
      "        Seven (Se7en) (1995)\n",
      "        Contact (1997)\n",
      "        Starship Troopers (1997)\n",
      "     Recommended:\n",
      "        Scream (1996)\n",
      "        Contact (1997)\n",
      "        Chasing Amy (1997)\n",
      "User 25\n",
      "     Known positives:\n",
      "        Dead Man Walking (1995)\n",
      "        Star Wars (1977)\n",
      "        Fargo (1996)\n",
      "     Recommended:\n",
      "        English Patient, The (1996)\n",
      "        Fargo (1996)\n",
      "        Contact (1997)\n",
      "User 450\n",
      "     Known positives:\n",
      "        Contact (1997)\n",
      "        George of the Jungle (1997)\n",
      "        Event Horizon (1997)\n",
      "     Recommended:\n",
      "        Conspiracy Theory (1997)\n",
      "        Saint, The (1997)\n",
      "        Air Force One (1997)\n",
      "User 101\n",
      "     Known positives:\n",
      "        Star Wars (1977)\n",
      "        Blade Runner (1982)\n",
      "        Aladdin (1992)\n",
      "     Recommended:\n",
      "        Raiders of the Lost Ark (1981)\n",
      "        Star Wars (1977)\n",
      "        Empire Strikes Back, The (1980)\n",
      "User 67\n",
      "     Known positives:\n",
      "        Dead Man Walking (1995)\n",
      "        Birdcage, The (1996)\n",
      "        Star Wars (1977)\n",
      "     Recommended:\n",
      "        Fargo (1996)\n",
      "        Star Wars (1977)\n",
      "        Return of the Jedi (1983)\n"
     ]
    }
   ],
   "source": [
    "#defining a function where for the number of users and movies in training data, \n",
    "#generate recommendations for each user we input\n",
    "def sample_recommendation(model, data, user_ids):\n",
    "    n_users, n_items = data [\"train\"].shape\n",
    "    for user_id in user_ids:\n",
    "        \n",
    "        #movies the user likes\n",
    "        known_positives = data[\"item_labels\"][data['train'].tocsr()[user_id].indices]\n",
    "        \n",
    "        #scores for movies these users are predicted to like based on the model\n",
    "        scores = model.predict(user_id, np.arange(n_items))\n",
    "        \n",
    "        #rank the predictions in order of rating\n",
    "        top_items = data[\"item_labels\"][np.argsort(-scores)]\n",
    "        \n",
    "        #print the results\n",
    "        print(\"User %s\" % user_id)\n",
    "        print(\"     Known positives:\")\n",
    "        \n",
    "        for x in known_positives[:3]:\n",
    "            print(\"        %s\" % x)\n",
    "\n",
    "        print(\"     Recommended:\")\n",
    "\n",
    "        for x in top_items[:3]:\n",
    "            print(\"        %s\" % x)\n",
    "            \n",
    "sample_recommendation(model, data, [3, 25, 450,101, 67])"
   ]
  }
 ],
 "metadata": {
  "kernelspec": {
   "display_name": "Python 3",
   "language": "python",
   "name": "python3"
  },
  "language_info": {
   "codemirror_mode": {
    "name": "ipython",
    "version": 3
   },
   "file_extension": ".py",
   "mimetype": "text/x-python",
   "name": "python",
   "nbconvert_exporter": "python",
   "pygments_lexer": "ipython3",
   "version": "3.6.1"
  }
 },
 "nbformat": 4,
 "nbformat_minor": 2
}
